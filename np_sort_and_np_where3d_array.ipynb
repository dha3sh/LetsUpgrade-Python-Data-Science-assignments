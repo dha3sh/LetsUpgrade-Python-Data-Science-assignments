{
  "nbformat": 4,
  "nbformat_minor": 0,
  "metadata": {
    "colab": {
      "provenance": [],
      "authorship_tag": "ABX9TyNNt80qf6Ld2fG9YTdRQssW",
      "include_colab_link": true
    },
    "kernelspec": {
      "name": "python3",
      "display_name": "Python 3"
    },
    "language_info": {
      "name": "python"
    }
  },
  "cells": [
    {
      "cell_type": "markdown",
      "metadata": {
        "id": "view-in-github",
        "colab_type": "text"
      },
      "source": [
        "<a href=\"https://colab.research.google.com/github/dha3sh/LetsUpgrade-Python-Data-Science-assignments/blob/main/np_sort_and_np_where3d_array.ipynb\" target=\"_parent\"><img src=\"https://colab.research.google.com/assets/colab-badge.svg\" alt=\"Open In Colab\"/></a>"
      ]
    },
    {
      "cell_type": "code",
      "execution_count": 4,
      "metadata": {
        "colab": {
          "base_uri": "https://localhost:8080/"
        },
        "id": "jOhlsXhQlhHm",
        "outputId": "9a80efab-1c8f-4735-fe31-9fdb6017c368"
      },
      "outputs": [
        {
          "output_type": "stream",
          "name": "stdout",
          "text": [
            "Along first axis : \n",
            " [[ 5  1]\n",
            " [10 14]]\n",
            "\n",
            "Along first axis : \n",
            " [[10 14]\n",
            " [ 1  5]]\n",
            "\n",
            "Along none axis : \n",
            " [ 1  5 10 14]\n"
          ]
        }
      ],
      "source": [
        "import numpy as np\n",
        "\n",
        "a = np.array([[5, 14], [10, 1]])\n",
        "arr1 = np.sort(a, axis = 0)\t\t\n",
        "print (\"Along first axis : \\n\", arr1)\t\t\n",
        "\n",
        "\n",
        "\n",
        "a = np.array([[10, 14], [5, 1]])\n",
        "arr2 = np.sort(a, axis = -1)\t\t\n",
        "print (\"\\nAlong first axis : \\n\", arr2)\n",
        "\n",
        "\n",
        "a = np.array([[5, 14], [10, 1]])\n",
        "arr1 = np.sort(a, axis = None)\t\t\n",
        "print (\"\\nAlong none axis : \\n\", arr1)\n"
      ]
    },
    {
      "cell_type": "code",
      "source": [
        "import numpy as np\n",
        "\n",
        "a = np.array([[1, 2, 3], [4, 5, 6]])\n",
        "\n",
        "print(a)\n",
        "\n",
        "print ('Indices of elements <4')\n",
        "\n",
        "b = np.where(a<4)\n",
        "print(b)\n",
        "\n",
        "print(\"Elements which are <4\")\n",
        "print(a[b])\n"
      ],
      "metadata": {
        "colab": {
          "base_uri": "https://localhost:8080/"
        },
        "id": "8HXDUWmMn-Rq",
        "outputId": "aa8a55a9-244c-4ed2-bbe8-2bad35e20aa1"
      },
      "execution_count": 5,
      "outputs": [
        {
          "output_type": "stream",
          "name": "stdout",
          "text": [
            "[[1 2 3]\n",
            " [4 5 6]]\n",
            "Indices of elements <4\n",
            "(array([0, 0, 0]), array([0, 1, 2]))\n",
            "Elements which are <4\n",
            "[1 2 3]\n"
          ]
        }
      ]
    }
  ]
}
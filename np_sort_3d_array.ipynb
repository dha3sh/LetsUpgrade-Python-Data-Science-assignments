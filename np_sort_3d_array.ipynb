{
  "nbformat": 4,
  "nbformat_minor": 0,
  "metadata": {
    "colab": {
      "provenance": [],
      "authorship_tag": "ABX9TyPGq5EeLt549mRISzxxJsAk",
      "include_colab_link": true
    },
    "kernelspec": {
      "name": "python3",
      "display_name": "Python 3"
    },
    "language_info": {
      "name": "python"
    }
  },
  "cells": [
    {
      "cell_type": "markdown",
      "metadata": {
        "id": "view-in-github",
        "colab_type": "text"
      },
      "source": [
        "<a href=\"https://colab.research.google.com/github/dha3sh/LetsUpgrade-Python-Data-Science-assignments/blob/main/np_sort_3d_array.ipynb\" target=\"_parent\"><img src=\"https://colab.research.google.com/assets/colab-badge.svg\" alt=\"Open In Colab\"/></a>"
      ]
    },
    {
      "cell_type": "code",
      "execution_count": 4,
      "metadata": {
        "colab": {
          "base_uri": "https://localhost:8080/"
        },
        "id": "jOhlsXhQlhHm",
        "outputId": "9a80efab-1c8f-4735-fe31-9fdb6017c368"
      },
      "outputs": [
        {
          "output_type": "stream",
          "name": "stdout",
          "text": [
            "Along first axis : \n",
            " [[ 5  1]\n",
            " [10 14]]\n",
            "\n",
            "Along first axis : \n",
            " [[10 14]\n",
            " [ 1  5]]\n",
            "\n",
            "Along none axis : \n",
            " [ 1  5 10 14]\n"
          ]
        }
      ],
      "source": [
        "import numpy as np\n",
        "\n",
        "a = np.array([[5, 14], [10, 1]])\n",
        "arr1 = np.sort(a, axis = 0)\t\t\n",
        "print (\"Along first axis : \\n\", arr1)\t\t\n",
        "\n",
        "\n",
        "\n",
        "a = np.array([[10, 14], [5, 1]])\n",
        "arr2 = np.sort(a, axis = -1)\t\t\n",
        "print (\"\\nAlong first axis : \\n\", arr2)\n",
        "\n",
        "\n",
        "a = np.array([[5, 14], [10, 1]])\n",
        "arr1 = np.sort(a, axis = None)\t\t\n",
        "print (\"\\nAlong none axis : \\n\", arr1)\n"
      ]
    }
  ]
}